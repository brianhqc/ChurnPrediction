{
 "cells": [
  {
   "cell_type": "code",
   "execution_count": 213,
   "id": "12a3effa",
   "metadata": {},
   "outputs": [],
   "source": [
    "import pandas as pd\n",
    "pandas.set_option('display.max_columns', 10)\n",
    "pandas.set_option('display.width', 400)"
   ]
  },
  {
   "cell_type": "code",
   "execution_count": null,
   "id": "533afafd",
   "metadata": {},
   "outputs": [],
   "source": [
    "#read from local file"
   ]
  },
  {
   "cell_type": "code",
   "execution_count": 219,
   "id": "8868721f",
   "metadata": {},
   "outputs": [],
   "source": [
    "df = pd.read_excel('C:/Users/brian/OneDrive/Desktop/Rogers-DA/SN Now Churn Data.xlsx')"
   ]
  },
  {
   "cell_type": "code",
   "execution_count": 220,
   "id": "3a32aa89",
   "metadata": {
    "scrolled": true
   },
   "outputs": [
    {
     "data": {
      "text/html": [
       "<div>\n",
       "<style scoped>\n",
       "    .dataframe tbody tr th:only-of-type {\n",
       "        vertical-align: middle;\n",
       "    }\n",
       "\n",
       "    .dataframe tbody tr th {\n",
       "        vertical-align: top;\n",
       "    }\n",
       "\n",
       "    .dataframe thead th {\n",
       "        text-align: right;\n",
       "    }\n",
       "</style>\n",
       "<table border=\"1\" class=\"dataframe\">\n",
       "  <thead>\n",
       "    <tr style=\"text-align: right;\">\n",
       "      <th></th>\n",
       "      <th>GUID</th>\n",
       "      <th>StartDate</th>\n",
       "      <th>EndDate</th>\n",
       "      <th>YearMonthChurn</th>\n",
       "      <th>Churn</th>\n",
       "      <th>...</th>\n",
       "      <th>Poker</th>\n",
       "      <th>Basketball</th>\n",
       "      <th>Baseball</th>\n",
       "      <th>Hockey</th>\n",
       "      <th>SportsnetContent</th>\n",
       "    </tr>\n",
       "  </thead>\n",
       "  <tbody>\n",
       "    <tr>\n",
       "      <th>0</th>\n",
       "      <td>0001f31f-d990-4bd7-9d0a-eeb877397b2c</td>\n",
       "      <td>2018-04-11</td>\n",
       "      <td>2018-05-11</td>\n",
       "      <td>20184.0</td>\n",
       "      <td>1</td>\n",
       "      <td>...</td>\n",
       "      <td>0</td>\n",
       "      <td>1</td>\n",
       "      <td>0</td>\n",
       "      <td>2</td>\n",
       "      <td>6</td>\n",
       "    </tr>\n",
       "    <tr>\n",
       "      <th>1</th>\n",
       "      <td>000262b9-b373-4730-ab51-01f93bc5655f</td>\n",
       "      <td>2018-06-16</td>\n",
       "      <td>2018-07-16</td>\n",
       "      <td>20186.0</td>\n",
       "      <td>1</td>\n",
       "      <td>...</td>\n",
       "      <td>0</td>\n",
       "      <td>0</td>\n",
       "      <td>1</td>\n",
       "      <td>0</td>\n",
       "      <td>0</td>\n",
       "    </tr>\n",
       "    <tr>\n",
       "      <th>2</th>\n",
       "      <td>000616af-15b0-4eaf-b88f-03d40f7d70f4</td>\n",
       "      <td>2016-09-24</td>\n",
       "      <td>2016-10-24</td>\n",
       "      <td>20169.0</td>\n",
       "      <td>1</td>\n",
       "      <td>...</td>\n",
       "      <td>0</td>\n",
       "      <td>0</td>\n",
       "      <td>0</td>\n",
       "      <td>0</td>\n",
       "      <td>0</td>\n",
       "    </tr>\n",
       "    <tr>\n",
       "      <th>3</th>\n",
       "      <td>00069260-e6df-444f-8513-a489ae2fc4c6</td>\n",
       "      <td>2016-11-09</td>\n",
       "      <td>2016-12-09</td>\n",
       "      <td>201611.0</td>\n",
       "      <td>1</td>\n",
       "      <td>...</td>\n",
       "      <td>0</td>\n",
       "      <td>0</td>\n",
       "      <td>0</td>\n",
       "      <td>3</td>\n",
       "      <td>0</td>\n",
       "    </tr>\n",
       "    <tr>\n",
       "      <th>4</th>\n",
       "      <td>0006c296-300b-4bf8-9181-889033dae996</td>\n",
       "      <td>2017-08-19</td>\n",
       "      <td>2017-09-19</td>\n",
       "      <td>NaN</td>\n",
       "      <td>0</td>\n",
       "      <td>...</td>\n",
       "      <td>0</td>\n",
       "      <td>0</td>\n",
       "      <td>0</td>\n",
       "      <td>0</td>\n",
       "      <td>0</td>\n",
       "    </tr>\n",
       "  </tbody>\n",
       "</table>\n",
       "<p>5 rows × 12 columns</p>\n",
       "</div>"
      ],
      "text/plain": [
       "                                   GUID  StartDate    EndDate  YearMonthChurn  Churn  ...  Poker  Basketball  Baseball  Hockey  SportsnetContent\n",
       "0  0001f31f-d990-4bd7-9d0a-eeb877397b2c 2018-04-11 2018-05-11         20184.0      1  ...      0           1         0       2                 6\n",
       "1  000262b9-b373-4730-ab51-01f93bc5655f 2018-06-16 2018-07-16         20186.0      1  ...      0           0         1       0                 0\n",
       "2  000616af-15b0-4eaf-b88f-03d40f7d70f4 2016-09-24 2016-10-24         20169.0      1  ...      0           0         0       0                 0\n",
       "3  00069260-e6df-444f-8513-a489ae2fc4c6 2016-11-09 2016-12-09        201611.0      1  ...      0           0         0       3                 0\n",
       "4  0006c296-300b-4bf8-9181-889033dae996 2017-08-19 2017-09-19             NaN      0  ...      0           0         0       0                 0\n",
       "\n",
       "[5 rows x 12 columns]"
      ]
     },
     "execution_count": 220,
     "metadata": {},
     "output_type": "execute_result"
    }
   ],
   "source": [
    "df.head()"
   ]
  },
  {
   "cell_type": "code",
   "execution_count": 80,
   "id": "a94029d1",
   "metadata": {},
   "outputs": [
    {
     "data": {
      "text/plain": [
       "dtype('<M8[ns]')"
      ]
     },
     "execution_count": 80,
     "metadata": {},
     "output_type": "execute_result"
    }
   ],
   "source": [
    "#YearMonthChurn Column is not in the right format\n",
    "#df['YearMonthChurn'].dtype was float64"
   ]
  },
  {
   "cell_type": "code",
   "execution_count": 221,
   "id": "3c9b8697",
   "metadata": {},
   "outputs": [
    {
     "data": {
      "text/html": [
       "<div>\n",
       "<style scoped>\n",
       "    .dataframe tbody tr th:only-of-type {\n",
       "        vertical-align: middle;\n",
       "    }\n",
       "\n",
       "    .dataframe tbody tr th {\n",
       "        vertical-align: top;\n",
       "    }\n",
       "\n",
       "    .dataframe thead th {\n",
       "        text-align: right;\n",
       "    }\n",
       "</style>\n",
       "<table border=\"1\" class=\"dataframe\">\n",
       "  <thead>\n",
       "    <tr style=\"text-align: right;\">\n",
       "      <th></th>\n",
       "      <th>GUID</th>\n",
       "      <th>StartDate</th>\n",
       "      <th>EndDate</th>\n",
       "      <th>YearMonthChurn</th>\n",
       "      <th>Churn</th>\n",
       "      <th>...</th>\n",
       "      <th>Poker</th>\n",
       "      <th>Basketball</th>\n",
       "      <th>Baseball</th>\n",
       "      <th>Hockey</th>\n",
       "      <th>SportsnetContent</th>\n",
       "    </tr>\n",
       "  </thead>\n",
       "  <tbody>\n",
       "    <tr>\n",
       "      <th>0</th>\n",
       "      <td>0001f31f-d990-4bd7-9d0a-eeb877397b2c</td>\n",
       "      <td>2018-04-11</td>\n",
       "      <td>2018-05-11</td>\n",
       "      <td>2018-04</td>\n",
       "      <td>1</td>\n",
       "      <td>...</td>\n",
       "      <td>0</td>\n",
       "      <td>1</td>\n",
       "      <td>0</td>\n",
       "      <td>2</td>\n",
       "      <td>6</td>\n",
       "    </tr>\n",
       "    <tr>\n",
       "      <th>1</th>\n",
       "      <td>000262b9-b373-4730-ab51-01f93bc5655f</td>\n",
       "      <td>2018-06-16</td>\n",
       "      <td>2018-07-16</td>\n",
       "      <td>2018-06</td>\n",
       "      <td>1</td>\n",
       "      <td>...</td>\n",
       "      <td>0</td>\n",
       "      <td>0</td>\n",
       "      <td>1</td>\n",
       "      <td>0</td>\n",
       "      <td>0</td>\n",
       "    </tr>\n",
       "    <tr>\n",
       "      <th>2</th>\n",
       "      <td>000616af-15b0-4eaf-b88f-03d40f7d70f4</td>\n",
       "      <td>2016-09-24</td>\n",
       "      <td>2016-10-24</td>\n",
       "      <td>2016-09</td>\n",
       "      <td>1</td>\n",
       "      <td>...</td>\n",
       "      <td>0</td>\n",
       "      <td>0</td>\n",
       "      <td>0</td>\n",
       "      <td>0</td>\n",
       "      <td>0</td>\n",
       "    </tr>\n",
       "    <tr>\n",
       "      <th>3</th>\n",
       "      <td>00069260-e6df-444f-8513-a489ae2fc4c6</td>\n",
       "      <td>2016-11-09</td>\n",
       "      <td>2016-12-09</td>\n",
       "      <td>2016-11</td>\n",
       "      <td>1</td>\n",
       "      <td>...</td>\n",
       "      <td>0</td>\n",
       "      <td>0</td>\n",
       "      <td>0</td>\n",
       "      <td>3</td>\n",
       "      <td>0</td>\n",
       "    </tr>\n",
       "    <tr>\n",
       "      <th>4</th>\n",
       "      <td>0006c296-300b-4bf8-9181-889033dae996</td>\n",
       "      <td>2017-08-19</td>\n",
       "      <td>2017-09-19</td>\n",
       "      <td>NaN</td>\n",
       "      <td>0</td>\n",
       "      <td>...</td>\n",
       "      <td>0</td>\n",
       "      <td>0</td>\n",
       "      <td>0</td>\n",
       "      <td>0</td>\n",
       "      <td>0</td>\n",
       "    </tr>\n",
       "  </tbody>\n",
       "</table>\n",
       "<p>5 rows × 12 columns</p>\n",
       "</div>"
      ],
      "text/plain": [
       "                                   GUID  StartDate    EndDate YearMonthChurn  Churn  ...  Poker  Basketball  Baseball  Hockey  SportsnetContent\n",
       "0  0001f31f-d990-4bd7-9d0a-eeb877397b2c 2018-04-11 2018-05-11        2018-04      1  ...      0           1         0       2                 6\n",
       "1  000262b9-b373-4730-ab51-01f93bc5655f 2018-06-16 2018-07-16        2018-06      1  ...      0           0         1       0                 0\n",
       "2  000616af-15b0-4eaf-b88f-03d40f7d70f4 2016-09-24 2016-10-24        2016-09      1  ...      0           0         0       0                 0\n",
       "3  00069260-e6df-444f-8513-a489ae2fc4c6 2016-11-09 2016-12-09        2016-11      1  ...      0           0         0       3                 0\n",
       "4  0006c296-300b-4bf8-9181-889033dae996 2017-08-19 2017-09-19            NaN      0  ...      0           0         0       0                 0\n",
       "\n",
       "[5 rows x 12 columns]"
      ]
     },
     "execution_count": 221,
     "metadata": {},
     "output_type": "execute_result"
    }
   ],
   "source": [
    "#Convert YearMonthChurn to date\n",
    "df['YearMonthChurn']= pd.to_datetime(df['YearMonthChurn'], format='%Y%m')\n",
    "df['YearMonthChurn'] = df['YearMonthChurn'].dt.strftime('%Y-%m')\n",
    "df.head()"
   ]
  },
  {
   "cell_type": "code",
   "execution_count": 222,
   "id": "63575100",
   "metadata": {
    "scrolled": true
   },
   "outputs": [
    {
     "data": {
      "text/html": [
       "<div>\n",
       "<style scoped>\n",
       "    .dataframe tbody tr th:only-of-type {\n",
       "        vertical-align: middle;\n",
       "    }\n",
       "\n",
       "    .dataframe tbody tr th {\n",
       "        vertical-align: top;\n",
       "    }\n",
       "\n",
       "    .dataframe thead th {\n",
       "        text-align: right;\n",
       "    }\n",
       "</style>\n",
       "<table border=\"1\" class=\"dataframe\">\n",
       "  <thead>\n",
       "    <tr style=\"text-align: right;\">\n",
       "      <th></th>\n",
       "      <th>Churn</th>\n",
       "      <th>TotalStreams</th>\n",
       "      <th>Soccer</th>\n",
       "      <th>Poker</th>\n",
       "      <th>Basketball</th>\n",
       "      <th>Baseball</th>\n",
       "      <th>Hockey</th>\n",
       "      <th>SportsnetContent</th>\n",
       "    </tr>\n",
       "  </thead>\n",
       "  <tbody>\n",
       "    <tr>\n",
       "      <th>count</th>\n",
       "      <td>264122.000000</td>\n",
       "      <td>264122.000000</td>\n",
       "      <td>264122.000000</td>\n",
       "      <td>264122.000000</td>\n",
       "      <td>264122.000000</td>\n",
       "      <td>264122.000000</td>\n",
       "      <td>264122.000000</td>\n",
       "      <td>264122.000000</td>\n",
       "    </tr>\n",
       "    <tr>\n",
       "      <th>mean</th>\n",
       "      <td>0.186493</td>\n",
       "      <td>3.012979</td>\n",
       "      <td>0.230378</td>\n",
       "      <td>0.644785</td>\n",
       "      <td>0.296969</td>\n",
       "      <td>0.343667</td>\n",
       "      <td>0.893087</td>\n",
       "      <td>0.604092</td>\n",
       "    </tr>\n",
       "    <tr>\n",
       "      <th>std</th>\n",
       "      <td>0.389505</td>\n",
       "      <td>7.942085</td>\n",
       "      <td>1.160791</td>\n",
       "      <td>2.937400</td>\n",
       "      <td>1.489738</td>\n",
       "      <td>1.679017</td>\n",
       "      <td>2.794850</td>\n",
       "      <td>2.228061</td>\n",
       "    </tr>\n",
       "    <tr>\n",
       "      <th>min</th>\n",
       "      <td>0.000000</td>\n",
       "      <td>0.000000</td>\n",
       "      <td>0.000000</td>\n",
       "      <td>0.000000</td>\n",
       "      <td>0.000000</td>\n",
       "      <td>0.000000</td>\n",
       "      <td>0.000000</td>\n",
       "      <td>0.000000</td>\n",
       "    </tr>\n",
       "    <tr>\n",
       "      <th>25%</th>\n",
       "      <td>0.000000</td>\n",
       "      <td>0.000000</td>\n",
       "      <td>0.000000</td>\n",
       "      <td>0.000000</td>\n",
       "      <td>0.000000</td>\n",
       "      <td>0.000000</td>\n",
       "      <td>0.000000</td>\n",
       "      <td>0.000000</td>\n",
       "    </tr>\n",
       "    <tr>\n",
       "      <th>50%</th>\n",
       "      <td>0.000000</td>\n",
       "      <td>0.000000</td>\n",
       "      <td>0.000000</td>\n",
       "      <td>0.000000</td>\n",
       "      <td>0.000000</td>\n",
       "      <td>0.000000</td>\n",
       "      <td>0.000000</td>\n",
       "      <td>0.000000</td>\n",
       "    </tr>\n",
       "    <tr>\n",
       "      <th>75%</th>\n",
       "      <td>0.000000</td>\n",
       "      <td>2.000000</td>\n",
       "      <td>0.000000</td>\n",
       "      <td>0.000000</td>\n",
       "      <td>0.000000</td>\n",
       "      <td>0.000000</td>\n",
       "      <td>0.000000</td>\n",
       "      <td>0.000000</td>\n",
       "    </tr>\n",
       "    <tr>\n",
       "      <th>max</th>\n",
       "      <td>1.000000</td>\n",
       "      <td>222.000000</td>\n",
       "      <td>56.000000</td>\n",
       "      <td>63.000000</td>\n",
       "      <td>52.000000</td>\n",
       "      <td>72.000000</td>\n",
       "      <td>86.000000</td>\n",
       "      <td>82.000000</td>\n",
       "    </tr>\n",
       "  </tbody>\n",
       "</table>\n",
       "</div>"
      ],
      "text/plain": [
       "               Churn   TotalStreams         Soccer          Poker     Basketball       Baseball         Hockey  SportsnetContent\n",
       "count  264122.000000  264122.000000  264122.000000  264122.000000  264122.000000  264122.000000  264122.000000     264122.000000\n",
       "mean        0.186493       3.012979       0.230378       0.644785       0.296969       0.343667       0.893087          0.604092\n",
       "std         0.389505       7.942085       1.160791       2.937400       1.489738       1.679017       2.794850          2.228061\n",
       "min         0.000000       0.000000       0.000000       0.000000       0.000000       0.000000       0.000000          0.000000\n",
       "25%         0.000000       0.000000       0.000000       0.000000       0.000000       0.000000       0.000000          0.000000\n",
       "50%         0.000000       0.000000       0.000000       0.000000       0.000000       0.000000       0.000000          0.000000\n",
       "75%         0.000000       2.000000       0.000000       0.000000       0.000000       0.000000       0.000000          0.000000\n",
       "max         1.000000     222.000000      56.000000      63.000000      52.000000      72.000000      86.000000         82.000000"
      ]
     },
     "execution_count": 222,
     "metadata": {},
     "output_type": "execute_result"
    }
   ],
   "source": [
    "df.describe()"
   ]
  },
  {
   "cell_type": "code",
   "execution_count": 279,
   "id": "ddcbc5ab",
   "metadata": {},
   "outputs": [],
   "source": [
    "import numpy as np\n",
    "import matplotlib.pyplot as plt\n",
    "import seaborn as sns\n",
    "import sys\n",
    "import pandas_profiling\n",
    "import plotly.offline as po\n",
    "import plotly.graph_objs as go\n",
    "from sklearn.ensemble import RandomForestClassifier\n",
    "from sklearn.metrics import confusion_matrix\n",
    "from sklearn.model_selection import train_test_split\n",
    "from sklearn.feature_selection import SelectKBest, chi2\n",
    "from sklearn.metrics import accuracy_score, precision_score, recall_score, f1_score\n",
    "%matplotlib inline\n",
    "import plotly.express as px\n",
    "from plotly.offline import download_plotlyjs, init_notebook_mode, iplot\n",
    "#pandas_profiling.ProfileReport(df)"
   ]
  },
  {
   "cell_type": "code",
   "execution_count": 224,
   "id": "30a3b1ea",
   "metadata": {},
   "outputs": [
    {
     "data": {
      "text/html": [
       "<div>\n",
       "<style scoped>\n",
       "    .dataframe tbody tr th:only-of-type {\n",
       "        vertical-align: middle;\n",
       "    }\n",
       "\n",
       "    .dataframe tbody tr th {\n",
       "        vertical-align: top;\n",
       "    }\n",
       "\n",
       "    .dataframe thead th {\n",
       "        text-align: right;\n",
       "    }\n",
       "</style>\n",
       "<table border=\"1\" class=\"dataframe\">\n",
       "  <thead>\n",
       "    <tr style=\"text-align: right;\">\n",
       "      <th></th>\n",
       "      <th>GUID</th>\n",
       "      <th>StartDate</th>\n",
       "      <th>EndDate</th>\n",
       "      <th>YearMonthChurn</th>\n",
       "      <th>Churn</th>\n",
       "      <th>...</th>\n",
       "      <th>Poker</th>\n",
       "      <th>Basketball</th>\n",
       "      <th>Baseball</th>\n",
       "      <th>Hockey</th>\n",
       "      <th>SportsnetContent</th>\n",
       "    </tr>\n",
       "  </thead>\n",
       "  <tbody>\n",
       "    <tr>\n",
       "      <th>0</th>\n",
       "      <td>0001f31f-d990-4bd7-9d0a-eeb877397b2c</td>\n",
       "      <td>2018-04-11</td>\n",
       "      <td>2018-05-11</td>\n",
       "      <td>2018-04</td>\n",
       "      <td>1</td>\n",
       "      <td>...</td>\n",
       "      <td>0</td>\n",
       "      <td>1</td>\n",
       "      <td>0</td>\n",
       "      <td>2</td>\n",
       "      <td>6</td>\n",
       "    </tr>\n",
       "    <tr>\n",
       "      <th>1</th>\n",
       "      <td>000262b9-b373-4730-ab51-01f93bc5655f</td>\n",
       "      <td>2018-06-16</td>\n",
       "      <td>2018-07-16</td>\n",
       "      <td>2018-06</td>\n",
       "      <td>1</td>\n",
       "      <td>...</td>\n",
       "      <td>0</td>\n",
       "      <td>0</td>\n",
       "      <td>1</td>\n",
       "      <td>0</td>\n",
       "      <td>0</td>\n",
       "    </tr>\n",
       "    <tr>\n",
       "      <th>2</th>\n",
       "      <td>000616af-15b0-4eaf-b88f-03d40f7d70f4</td>\n",
       "      <td>2016-09-24</td>\n",
       "      <td>2016-10-24</td>\n",
       "      <td>2016-09</td>\n",
       "      <td>1</td>\n",
       "      <td>...</td>\n",
       "      <td>0</td>\n",
       "      <td>0</td>\n",
       "      <td>0</td>\n",
       "      <td>0</td>\n",
       "      <td>0</td>\n",
       "    </tr>\n",
       "    <tr>\n",
       "      <th>3</th>\n",
       "      <td>00069260-e6df-444f-8513-a489ae2fc4c6</td>\n",
       "      <td>2016-11-09</td>\n",
       "      <td>2016-12-09</td>\n",
       "      <td>2016-11</td>\n",
       "      <td>1</td>\n",
       "      <td>...</td>\n",
       "      <td>0</td>\n",
       "      <td>0</td>\n",
       "      <td>0</td>\n",
       "      <td>3</td>\n",
       "      <td>0</td>\n",
       "    </tr>\n",
       "    <tr>\n",
       "      <th>4</th>\n",
       "      <td>0006c296-300b-4bf8-9181-889033dae996</td>\n",
       "      <td>2017-08-19</td>\n",
       "      <td>2017-09-19</td>\n",
       "      <td>0</td>\n",
       "      <td>0</td>\n",
       "      <td>...</td>\n",
       "      <td>0</td>\n",
       "      <td>0</td>\n",
       "      <td>0</td>\n",
       "      <td>0</td>\n",
       "      <td>0</td>\n",
       "    </tr>\n",
       "  </tbody>\n",
       "</table>\n",
       "<p>5 rows × 12 columns</p>\n",
       "</div>"
      ],
      "text/plain": [
       "                                   GUID  StartDate    EndDate YearMonthChurn  Churn  ...  Poker  Basketball  Baseball  Hockey  SportsnetContent\n",
       "0  0001f31f-d990-4bd7-9d0a-eeb877397b2c 2018-04-11 2018-05-11        2018-04      1  ...      0           1         0       2                 6\n",
       "1  000262b9-b373-4730-ab51-01f93bc5655f 2018-06-16 2018-07-16        2018-06      1  ...      0           0         1       0                 0\n",
       "2  000616af-15b0-4eaf-b88f-03d40f7d70f4 2016-09-24 2016-10-24        2016-09      1  ...      0           0         0       0                 0\n",
       "3  00069260-e6df-444f-8513-a489ae2fc4c6 2016-11-09 2016-12-09        2016-11      1  ...      0           0         0       3                 0\n",
       "4  0006c296-300b-4bf8-9181-889033dae996 2017-08-19 2017-09-19              0      0  ...      0           0         0       0                 0\n",
       "\n",
       "[5 rows x 12 columns]"
      ]
     },
     "execution_count": 224,
     "metadata": {},
     "output_type": "execute_result"
    }
   ],
   "source": [
    "#Handle Missing Values\n",
    "df['YearMonthChurn'].fillna(0, inplace = True)\n",
    "df.head()"
   ]
  },
  {
   "cell_type": "code",
   "execution_count": 259,
   "id": "1e8fe616",
   "metadata": {},
   "outputs": [
    {
     "data": {
      "text/html": [
       "<div>\n",
       "<style scoped>\n",
       "    .dataframe tbody tr th:only-of-type {\n",
       "        vertical-align: middle;\n",
       "    }\n",
       "\n",
       "    .dataframe tbody tr th {\n",
       "        vertical-align: top;\n",
       "    }\n",
       "\n",
       "    .dataframe thead th {\n",
       "        text-align: right;\n",
       "    }\n",
       "</style>\n",
       "<table border=\"1\" class=\"dataframe\">\n",
       "  <thead>\n",
       "    <tr style=\"text-align: right;\">\n",
       "      <th></th>\n",
       "      <th>GUID</th>\n",
       "      <th>StartDate</th>\n",
       "      <th>EndDate</th>\n",
       "      <th>YearMonthChurn</th>\n",
       "      <th>Churn</th>\n",
       "      <th>...</th>\n",
       "      <th>day_of_week</th>\n",
       "      <th>ConsecutiveMonths</th>\n",
       "      <th>StartMonth</th>\n",
       "      <th>day_of_week_num</th>\n",
       "      <th>MonthDiff</th>\n",
       "    </tr>\n",
       "  </thead>\n",
       "  <tbody>\n",
       "    <tr>\n",
       "      <th>0</th>\n",
       "      <td>0001f31f-d990-4bd7-9d0a-eeb877397b2c</td>\n",
       "      <td>2018-04-11</td>\n",
       "      <td>2018-05-11</td>\n",
       "      <td>2018-04</td>\n",
       "      <td>1</td>\n",
       "      <td>...</td>\n",
       "      <td>Wednesday</td>\n",
       "      <td>1</td>\n",
       "      <td>4</td>\n",
       "      <td>2</td>\n",
       "      <td>NaN</td>\n",
       "    </tr>\n",
       "    <tr>\n",
       "      <th>1</th>\n",
       "      <td>000262b9-b373-4730-ab51-01f93bc5655f</td>\n",
       "      <td>2018-06-16</td>\n",
       "      <td>2018-07-16</td>\n",
       "      <td>2018-06</td>\n",
       "      <td>1</td>\n",
       "      <td>...</td>\n",
       "      <td>Saturday</td>\n",
       "      <td>1</td>\n",
       "      <td>6</td>\n",
       "      <td>5</td>\n",
       "      <td>NaN</td>\n",
       "    </tr>\n",
       "    <tr>\n",
       "      <th>66</th>\n",
       "      <td>00034bc0-1e3f-4eb3-a9c6-d3790b76124f</td>\n",
       "      <td>2016-10-20</td>\n",
       "      <td>2016-11-20</td>\n",
       "      <td>2016-10</td>\n",
       "      <td>1</td>\n",
       "      <td>...</td>\n",
       "      <td>Thursday</td>\n",
       "      <td>1</td>\n",
       "      <td>10</td>\n",
       "      <td>3</td>\n",
       "      <td>NaN</td>\n",
       "    </tr>\n",
       "    <tr>\n",
       "      <th>2</th>\n",
       "      <td>000616af-15b0-4eaf-b88f-03d40f7d70f4</td>\n",
       "      <td>2016-09-24</td>\n",
       "      <td>2016-10-24</td>\n",
       "      <td>2016-09</td>\n",
       "      <td>1</td>\n",
       "      <td>...</td>\n",
       "      <td>Saturday</td>\n",
       "      <td>1</td>\n",
       "      <td>9</td>\n",
       "      <td>5</td>\n",
       "      <td>NaN</td>\n",
       "    </tr>\n",
       "    <tr>\n",
       "      <th>67</th>\n",
       "      <td>00069260-e6df-444f-8513-a489ae2fc4c6</td>\n",
       "      <td>2016-10-09</td>\n",
       "      <td>2016-11-09</td>\n",
       "      <td>0</td>\n",
       "      <td>0</td>\n",
       "      <td>...</td>\n",
       "      <td>Sunday</td>\n",
       "      <td>1</td>\n",
       "      <td>10</td>\n",
       "      <td>6</td>\n",
       "      <td>NaN</td>\n",
       "    </tr>\n",
       "  </tbody>\n",
       "</table>\n",
       "<p>5 rows × 19 columns</p>\n",
       "</div>"
      ],
      "text/plain": [
       "                                    GUID  StartDate    EndDate YearMonthChurn  Churn  ...  day_of_week  ConsecutiveMonths  StartMonth  day_of_week_num  MonthDiff\n",
       "0   0001f31f-d990-4bd7-9d0a-eeb877397b2c 2018-04-11 2018-05-11        2018-04      1  ...    Wednesday                  1           4                2        NaN\n",
       "1   000262b9-b373-4730-ab51-01f93bc5655f 2018-06-16 2018-07-16        2018-06      1  ...     Saturday                  1           6                5        NaN\n",
       "66  00034bc0-1e3f-4eb3-a9c6-d3790b76124f 2016-10-20 2016-11-20        2016-10      1  ...     Thursday                  1          10                3        NaN\n",
       "2   000616af-15b0-4eaf-b88f-03d40f7d70f4 2016-09-24 2016-10-24        2016-09      1  ...     Saturday                  1           9                5        NaN\n",
       "67  00069260-e6df-444f-8513-a489ae2fc4c6 2016-10-09 2016-11-09              0      0  ...       Sunday                  1          10                6        NaN\n",
       "\n",
       "[5 rows x 19 columns]"
      ]
     },
     "execution_count": 259,
     "metadata": {},
     "output_type": "execute_result"
    }
   ],
   "source": [
    "df['StartYear']=df['StartDate'].dt.year\n",
    "df['StartMonth']=df['StartDate'].dt.month\n",
    "df['week_of_month'] = np.floor((df['StartDate'].dt.day - 1) / 7) + 1\n",
    "# Extract the day of the week from the date column and map it to a number\n",
    "df['day_of_week'] = df['StartDate'].dt.dayofweek.map({0: 'Monday', 1: 'Tuesday', 2: 'Wednesday', 3: 'Thursday', 4: 'Friday', 5: 'Saturday', 6: 'Sunday'})\n",
    "df['day_of_week_num'] = df['StartDate'].dt.dayofweek\n",
    "df=df.sort_values(by=['GUID','StartDate'])\n",
    "# Group the dataframe by UserID and calculate the difference between consecutive months\n",
    "df['MonthDiff'] = df.groupby('GUID')['StartMonth'].diff()\n",
    "# Create a new column 'ConsecutiveMonths' with the cumulative sum of MonthDiff where MonthDiff == 1\n",
    "df['ConsecutiveMonths'] = (df['MonthDiff'] == 1).cumsum() + 1\n",
    "df.head()"
   ]
  },
  {
   "cell_type": "code",
   "execution_count": 270,
   "id": "1d18de4c",
   "metadata": {},
   "outputs": [
    {
     "data": {
      "text/html": [
       "<div>\n",
       "<style scoped>\n",
       "    .dataframe tbody tr th:only-of-type {\n",
       "        vertical-align: middle;\n",
       "    }\n",
       "\n",
       "    .dataframe tbody tr th {\n",
       "        vertical-align: top;\n",
       "    }\n",
       "\n",
       "    .dataframe thead th {\n",
       "        text-align: right;\n",
       "    }\n",
       "</style>\n",
       "<table border=\"1\" class=\"dataframe\">\n",
       "  <thead>\n",
       "    <tr style=\"text-align: right;\">\n",
       "      <th></th>\n",
       "      <th>GUID</th>\n",
       "      <th>StartDate</th>\n",
       "      <th>EndDate</th>\n",
       "      <th>YearMonthChurn</th>\n",
       "      <th>Churn</th>\n",
       "      <th>...</th>\n",
       "      <th>week_of_month</th>\n",
       "      <th>day_of_week</th>\n",
       "      <th>ConsecutiveMonths</th>\n",
       "      <th>StartMonth</th>\n",
       "      <th>day_of_week_num</th>\n",
       "    </tr>\n",
       "  </thead>\n",
       "  <tbody>\n",
       "    <tr>\n",
       "      <th>0</th>\n",
       "      <td>0001f31f-d990-4bd7-9d0a-eeb877397b2c</td>\n",
       "      <td>2018-04-11</td>\n",
       "      <td>2018-05-11</td>\n",
       "      <td>2018-04</td>\n",
       "      <td>1</td>\n",
       "      <td>...</td>\n",
       "      <td>2.0</td>\n",
       "      <td>Wednesday</td>\n",
       "      <td>1</td>\n",
       "      <td>4</td>\n",
       "      <td>2</td>\n",
       "    </tr>\n",
       "    <tr>\n",
       "      <th>1</th>\n",
       "      <td>000262b9-b373-4730-ab51-01f93bc5655f</td>\n",
       "      <td>2018-06-16</td>\n",
       "      <td>2018-07-16</td>\n",
       "      <td>2018-06</td>\n",
       "      <td>1</td>\n",
       "      <td>...</td>\n",
       "      <td>3.0</td>\n",
       "      <td>Saturday</td>\n",
       "      <td>1</td>\n",
       "      <td>6</td>\n",
       "      <td>5</td>\n",
       "    </tr>\n",
       "    <tr>\n",
       "      <th>66</th>\n",
       "      <td>00034bc0-1e3f-4eb3-a9c6-d3790b76124f</td>\n",
       "      <td>2016-10-20</td>\n",
       "      <td>2016-11-20</td>\n",
       "      <td>2016-10</td>\n",
       "      <td>1</td>\n",
       "      <td>...</td>\n",
       "      <td>3.0</td>\n",
       "      <td>Thursday</td>\n",
       "      <td>1</td>\n",
       "      <td>10</td>\n",
       "      <td>3</td>\n",
       "    </tr>\n",
       "    <tr>\n",
       "      <th>2</th>\n",
       "      <td>000616af-15b0-4eaf-b88f-03d40f7d70f4</td>\n",
       "      <td>2016-09-24</td>\n",
       "      <td>2016-10-24</td>\n",
       "      <td>2016-09</td>\n",
       "      <td>1</td>\n",
       "      <td>...</td>\n",
       "      <td>4.0</td>\n",
       "      <td>Saturday</td>\n",
       "      <td>1</td>\n",
       "      <td>9</td>\n",
       "      <td>5</td>\n",
       "    </tr>\n",
       "    <tr>\n",
       "      <th>67</th>\n",
       "      <td>00069260-e6df-444f-8513-a489ae2fc4c6</td>\n",
       "      <td>2016-10-09</td>\n",
       "      <td>2016-11-09</td>\n",
       "      <td>0</td>\n",
       "      <td>0</td>\n",
       "      <td>...</td>\n",
       "      <td>2.0</td>\n",
       "      <td>Sunday</td>\n",
       "      <td>1</td>\n",
       "      <td>10</td>\n",
       "      <td>6</td>\n",
       "    </tr>\n",
       "    <tr>\n",
       "      <th>3</th>\n",
       "      <td>00069260-e6df-444f-8513-a489ae2fc4c6</td>\n",
       "      <td>2016-11-09</td>\n",
       "      <td>2016-12-09</td>\n",
       "      <td>2016-11</td>\n",
       "      <td>1</td>\n",
       "      <td>...</td>\n",
       "      <td>2.0</td>\n",
       "      <td>Wednesday</td>\n",
       "      <td>2</td>\n",
       "      <td>11</td>\n",
       "      <td>2</td>\n",
       "    </tr>\n",
       "    <tr>\n",
       "      <th>4</th>\n",
       "      <td>0006c296-300b-4bf8-9181-889033dae996</td>\n",
       "      <td>2017-08-19</td>\n",
       "      <td>2017-09-19</td>\n",
       "      <td>0</td>\n",
       "      <td>0</td>\n",
       "      <td>...</td>\n",
       "      <td>3.0</td>\n",
       "      <td>Saturday</td>\n",
       "      <td>2</td>\n",
       "      <td>8</td>\n",
       "      <td>5</td>\n",
       "    </tr>\n",
       "    <tr>\n",
       "      <th>5</th>\n",
       "      <td>0006c296-300b-4bf8-9181-889033dae996</td>\n",
       "      <td>2017-09-19</td>\n",
       "      <td>2017-10-19</td>\n",
       "      <td>0</td>\n",
       "      <td>0</td>\n",
       "      <td>...</td>\n",
       "      <td>3.0</td>\n",
       "      <td>Tuesday</td>\n",
       "      <td>3</td>\n",
       "      <td>9</td>\n",
       "      <td>1</td>\n",
       "    </tr>\n",
       "    <tr>\n",
       "      <th>6</th>\n",
       "      <td>0006c296-300b-4bf8-9181-889033dae996</td>\n",
       "      <td>2017-10-19</td>\n",
       "      <td>2017-11-19</td>\n",
       "      <td>0</td>\n",
       "      <td>0</td>\n",
       "      <td>...</td>\n",
       "      <td>3.0</td>\n",
       "      <td>Thursday</td>\n",
       "      <td>4</td>\n",
       "      <td>10</td>\n",
       "      <td>3</td>\n",
       "    </tr>\n",
       "    <tr>\n",
       "      <th>68</th>\n",
       "      <td>0006c296-300b-4bf8-9181-889033dae996</td>\n",
       "      <td>2017-11-19</td>\n",
       "      <td>2017-12-19</td>\n",
       "      <td>0</td>\n",
       "      <td>0</td>\n",
       "      <td>...</td>\n",
       "      <td>3.0</td>\n",
       "      <td>Sunday</td>\n",
       "      <td>5</td>\n",
       "      <td>11</td>\n",
       "      <td>6</td>\n",
       "    </tr>\n",
       "    <tr>\n",
       "      <th>69</th>\n",
       "      <td>0006c296-300b-4bf8-9181-889033dae996</td>\n",
       "      <td>2017-12-19</td>\n",
       "      <td>2018-01-19</td>\n",
       "      <td>0</td>\n",
       "      <td>0</td>\n",
       "      <td>...</td>\n",
       "      <td>3.0</td>\n",
       "      <td>Tuesday</td>\n",
       "      <td>6</td>\n",
       "      <td>12</td>\n",
       "      <td>1</td>\n",
       "    </tr>\n",
       "    <tr>\n",
       "      <th>70</th>\n",
       "      <td>0006c296-300b-4bf8-9181-889033dae996</td>\n",
       "      <td>2018-01-19</td>\n",
       "      <td>2018-02-19</td>\n",
       "      <td>0</td>\n",
       "      <td>0</td>\n",
       "      <td>...</td>\n",
       "      <td>3.0</td>\n",
       "      <td>Friday</td>\n",
       "      <td>6</td>\n",
       "      <td>1</td>\n",
       "      <td>4</td>\n",
       "    </tr>\n",
       "    <tr>\n",
       "      <th>71</th>\n",
       "      <td>0006c296-300b-4bf8-9181-889033dae996</td>\n",
       "      <td>2018-02-19</td>\n",
       "      <td>2018-03-19</td>\n",
       "      <td>2018-02</td>\n",
       "      <td>1</td>\n",
       "      <td>...</td>\n",
       "      <td>3.0</td>\n",
       "      <td>Monday</td>\n",
       "      <td>7</td>\n",
       "      <td>2</td>\n",
       "      <td>0</td>\n",
       "    </tr>\n",
       "    <tr>\n",
       "      <th>7</th>\n",
       "      <td>0008d0d6-09b0-4945-844a-741d8fa9effa</td>\n",
       "      <td>2018-06-22</td>\n",
       "      <td>2018-07-22</td>\n",
       "      <td>2018-06</td>\n",
       "      <td>1</td>\n",
       "      <td>...</td>\n",
       "      <td>4.0</td>\n",
       "      <td>Friday</td>\n",
       "      <td>7</td>\n",
       "      <td>6</td>\n",
       "      <td>4</td>\n",
       "    </tr>\n",
       "    <tr>\n",
       "      <th>8</th>\n",
       "      <td>000bcecf-3e11-485d-871a-2dd166154718</td>\n",
       "      <td>2018-07-23</td>\n",
       "      <td>2018-08-23</td>\n",
       "      <td>0</td>\n",
       "      <td>0</td>\n",
       "      <td>...</td>\n",
       "      <td>4.0</td>\n",
       "      <td>Monday</td>\n",
       "      <td>7</td>\n",
       "      <td>7</td>\n",
       "      <td>0</td>\n",
       "    </tr>\n",
       "    <tr>\n",
       "      <th>72</th>\n",
       "      <td>000bcecf-3e11-485d-871a-2dd166154718</td>\n",
       "      <td>2018-08-23</td>\n",
       "      <td>2018-09-23</td>\n",
       "      <td>0</td>\n",
       "      <td>0</td>\n",
       "      <td>...</td>\n",
       "      <td>4.0</td>\n",
       "      <td>Thursday</td>\n",
       "      <td>8</td>\n",
       "      <td>8</td>\n",
       "      <td>3</td>\n",
       "    </tr>\n",
       "    <tr>\n",
       "      <th>9</th>\n",
       "      <td>000bcecf-3e11-485d-871a-2dd166154718</td>\n",
       "      <td>2018-09-23</td>\n",
       "      <td>2018-10-23</td>\n",
       "      <td>0</td>\n",
       "      <td>0</td>\n",
       "      <td>...</td>\n",
       "      <td>4.0</td>\n",
       "      <td>Sunday</td>\n",
       "      <td>9</td>\n",
       "      <td>9</td>\n",
       "      <td>6</td>\n",
       "    </tr>\n",
       "    <tr>\n",
       "      <th>10</th>\n",
       "      <td>000d343b-7acc-40e1-a882-a4ddacc60cd1</td>\n",
       "      <td>2016-07-13</td>\n",
       "      <td>2016-08-13</td>\n",
       "      <td>2016-07</td>\n",
       "      <td>1</td>\n",
       "      <td>...</td>\n",
       "      <td>2.0</td>\n",
       "      <td>Wednesday</td>\n",
       "      <td>9</td>\n",
       "      <td>7</td>\n",
       "      <td>2</td>\n",
       "    </tr>\n",
       "    <tr>\n",
       "      <th>11</th>\n",
       "      <td>000d343b-7acc-40e1-a882-a4ddacc60cd1</td>\n",
       "      <td>2016-09-17</td>\n",
       "      <td>2016-10-17</td>\n",
       "      <td>2016-09</td>\n",
       "      <td>1</td>\n",
       "      <td>...</td>\n",
       "      <td>3.0</td>\n",
       "      <td>Saturday</td>\n",
       "      <td>9</td>\n",
       "      <td>9</td>\n",
       "      <td>5</td>\n",
       "    </tr>\n",
       "    <tr>\n",
       "      <th>73</th>\n",
       "      <td>001103ed-7a32-4c60-a37d-0eb5659a2af0</td>\n",
       "      <td>2018-05-06</td>\n",
       "      <td>2018-06-06</td>\n",
       "      <td>2018-05</td>\n",
       "      <td>1</td>\n",
       "      <td>...</td>\n",
       "      <td>1.0</td>\n",
       "      <td>Sunday</td>\n",
       "      <td>9</td>\n",
       "      <td>5</td>\n",
       "      <td>6</td>\n",
       "    </tr>\n",
       "    <tr>\n",
       "      <th>12</th>\n",
       "      <td>00113e6b-120d-4ac2-9306-910708860110</td>\n",
       "      <td>2018-09-18</td>\n",
       "      <td>2018-10-18</td>\n",
       "      <td>0</td>\n",
       "      <td>0</td>\n",
       "      <td>...</td>\n",
       "      <td>3.0</td>\n",
       "      <td>Tuesday</td>\n",
       "      <td>9</td>\n",
       "      <td>9</td>\n",
       "      <td>1</td>\n",
       "    </tr>\n",
       "    <tr>\n",
       "      <th>74</th>\n",
       "      <td>001209c4-1152-40f1-b6bf-d7d255c2d894</td>\n",
       "      <td>2018-04-20</td>\n",
       "      <td>2018-05-20</td>\n",
       "      <td>0</td>\n",
       "      <td>0</td>\n",
       "      <td>...</td>\n",
       "      <td>3.0</td>\n",
       "      <td>Friday</td>\n",
       "      <td>9</td>\n",
       "      <td>4</td>\n",
       "      <td>4</td>\n",
       "    </tr>\n",
       "    <tr>\n",
       "      <th>75</th>\n",
       "      <td>001209c4-1152-40f1-b6bf-d7d255c2d894</td>\n",
       "      <td>2018-05-20</td>\n",
       "      <td>2018-06-20</td>\n",
       "      <td>2018-05</td>\n",
       "      <td>1</td>\n",
       "      <td>...</td>\n",
       "      <td>3.0</td>\n",
       "      <td>Sunday</td>\n",
       "      <td>10</td>\n",
       "      <td>5</td>\n",
       "      <td>6</td>\n",
       "    </tr>\n",
       "    <tr>\n",
       "      <th>76</th>\n",
       "      <td>00120c18-a096-4c98-a162-db54fbb21eea</td>\n",
       "      <td>2017-06-23</td>\n",
       "      <td>2017-07-23</td>\n",
       "      <td>0</td>\n",
       "      <td>0</td>\n",
       "      <td>...</td>\n",
       "      <td>4.0</td>\n",
       "      <td>Friday</td>\n",
       "      <td>10</td>\n",
       "      <td>6</td>\n",
       "      <td>4</td>\n",
       "    </tr>\n",
       "    <tr>\n",
       "      <th>13</th>\n",
       "      <td>00120c18-a096-4c98-a162-db54fbb21eea</td>\n",
       "      <td>2017-07-23</td>\n",
       "      <td>2017-08-23</td>\n",
       "      <td>0</td>\n",
       "      <td>0</td>\n",
       "      <td>...</td>\n",
       "      <td>4.0</td>\n",
       "      <td>Sunday</td>\n",
       "      <td>11</td>\n",
       "      <td>7</td>\n",
       "      <td>6</td>\n",
       "    </tr>\n",
       "    <tr>\n",
       "      <th>77</th>\n",
       "      <td>00120c18-a096-4c98-a162-db54fbb21eea</td>\n",
       "      <td>2017-08-23</td>\n",
       "      <td>2017-09-23</td>\n",
       "      <td>2017-08</td>\n",
       "      <td>1</td>\n",
       "      <td>...</td>\n",
       "      <td>4.0</td>\n",
       "      <td>Wednesday</td>\n",
       "      <td>12</td>\n",
       "      <td>8</td>\n",
       "      <td>2</td>\n",
       "    </tr>\n",
       "    <tr>\n",
       "      <th>78</th>\n",
       "      <td>0013573e-6038-4ac7-8b9b-daf6678aae15</td>\n",
       "      <td>2017-03-08</td>\n",
       "      <td>2017-04-08</td>\n",
       "      <td>2017-03</td>\n",
       "      <td>1</td>\n",
       "      <td>...</td>\n",
       "      <td>2.0</td>\n",
       "      <td>Wednesday</td>\n",
       "      <td>12</td>\n",
       "      <td>3</td>\n",
       "      <td>2</td>\n",
       "    </tr>\n",
       "    <tr>\n",
       "      <th>14</th>\n",
       "      <td>00148a46-db3f-4762-9152-8bae849301e6</td>\n",
       "      <td>2016-10-11</td>\n",
       "      <td>2016-11-11</td>\n",
       "      <td>0</td>\n",
       "      <td>0</td>\n",
       "      <td>...</td>\n",
       "      <td>2.0</td>\n",
       "      <td>Tuesday</td>\n",
       "      <td>12</td>\n",
       "      <td>10</td>\n",
       "      <td>1</td>\n",
       "    </tr>\n",
       "    <tr>\n",
       "      <th>15</th>\n",
       "      <td>00148a46-db3f-4762-9152-8bae849301e6</td>\n",
       "      <td>2016-11-11</td>\n",
       "      <td>2016-12-11</td>\n",
       "      <td>2016-11</td>\n",
       "      <td>1</td>\n",
       "      <td>...</td>\n",
       "      <td>2.0</td>\n",
       "      <td>Friday</td>\n",
       "      <td>13</td>\n",
       "      <td>11</td>\n",
       "      <td>4</td>\n",
       "    </tr>\n",
       "    <tr>\n",
       "      <th>16</th>\n",
       "      <td>00156a0b-4823-4912-b66d-60c8f36be696</td>\n",
       "      <td>2017-04-15</td>\n",
       "      <td>2017-05-15</td>\n",
       "      <td>0</td>\n",
       "      <td>0</td>\n",
       "      <td>...</td>\n",
       "      <td>3.0</td>\n",
       "      <td>Saturday</td>\n",
       "      <td>13</td>\n",
       "      <td>4</td>\n",
       "      <td>5</td>\n",
       "    </tr>\n",
       "  </tbody>\n",
       "</table>\n",
       "<p>30 rows × 18 columns</p>\n",
       "</div>"
      ],
      "text/plain": [
       "                                    GUID  StartDate    EndDate YearMonthChurn  Churn  ...  week_of_month  day_of_week  ConsecutiveMonths  StartMonth  day_of_week_num\n",
       "0   0001f31f-d990-4bd7-9d0a-eeb877397b2c 2018-04-11 2018-05-11        2018-04      1  ...            2.0    Wednesday                  1           4                2\n",
       "1   000262b9-b373-4730-ab51-01f93bc5655f 2018-06-16 2018-07-16        2018-06      1  ...            3.0     Saturday                  1           6                5\n",
       "66  00034bc0-1e3f-4eb3-a9c6-d3790b76124f 2016-10-20 2016-11-20        2016-10      1  ...            3.0     Thursday                  1          10                3\n",
       "2   000616af-15b0-4eaf-b88f-03d40f7d70f4 2016-09-24 2016-10-24        2016-09      1  ...            4.0     Saturday                  1           9                5\n",
       "67  00069260-e6df-444f-8513-a489ae2fc4c6 2016-10-09 2016-11-09              0      0  ...            2.0       Sunday                  1          10                6\n",
       "3   00069260-e6df-444f-8513-a489ae2fc4c6 2016-11-09 2016-12-09        2016-11      1  ...            2.0    Wednesday                  2          11                2\n",
       "4   0006c296-300b-4bf8-9181-889033dae996 2017-08-19 2017-09-19              0      0  ...            3.0     Saturday                  2           8                5\n",
       "5   0006c296-300b-4bf8-9181-889033dae996 2017-09-19 2017-10-19              0      0  ...            3.0      Tuesday                  3           9                1\n",
       "6   0006c296-300b-4bf8-9181-889033dae996 2017-10-19 2017-11-19              0      0  ...            3.0     Thursday                  4          10                3\n",
       "68  0006c296-300b-4bf8-9181-889033dae996 2017-11-19 2017-12-19              0      0  ...            3.0       Sunday                  5          11                6\n",
       "69  0006c296-300b-4bf8-9181-889033dae996 2017-12-19 2018-01-19              0      0  ...            3.0      Tuesday                  6          12                1\n",
       "70  0006c296-300b-4bf8-9181-889033dae996 2018-01-19 2018-02-19              0      0  ...            3.0       Friday                  6           1                4\n",
       "71  0006c296-300b-4bf8-9181-889033dae996 2018-02-19 2018-03-19        2018-02      1  ...            3.0       Monday                  7           2                0\n",
       "7   0008d0d6-09b0-4945-844a-741d8fa9effa 2018-06-22 2018-07-22        2018-06      1  ...            4.0       Friday                  7           6                4\n",
       "8   000bcecf-3e11-485d-871a-2dd166154718 2018-07-23 2018-08-23              0      0  ...            4.0       Monday                  7           7                0\n",
       "72  000bcecf-3e11-485d-871a-2dd166154718 2018-08-23 2018-09-23              0      0  ...            4.0     Thursday                  8           8                3\n",
       "9   000bcecf-3e11-485d-871a-2dd166154718 2018-09-23 2018-10-23              0      0  ...            4.0       Sunday                  9           9                6\n",
       "10  000d343b-7acc-40e1-a882-a4ddacc60cd1 2016-07-13 2016-08-13        2016-07      1  ...            2.0    Wednesday                  9           7                2\n",
       "11  000d343b-7acc-40e1-a882-a4ddacc60cd1 2016-09-17 2016-10-17        2016-09      1  ...            3.0     Saturday                  9           9                5\n",
       "73  001103ed-7a32-4c60-a37d-0eb5659a2af0 2018-05-06 2018-06-06        2018-05      1  ...            1.0       Sunday                  9           5                6\n",
       "12  00113e6b-120d-4ac2-9306-910708860110 2018-09-18 2018-10-18              0      0  ...            3.0      Tuesday                  9           9                1\n",
       "74  001209c4-1152-40f1-b6bf-d7d255c2d894 2018-04-20 2018-05-20              0      0  ...            3.0       Friday                  9           4                4\n",
       "75  001209c4-1152-40f1-b6bf-d7d255c2d894 2018-05-20 2018-06-20        2018-05      1  ...            3.0       Sunday                 10           5                6\n",
       "76  00120c18-a096-4c98-a162-db54fbb21eea 2017-06-23 2017-07-23              0      0  ...            4.0       Friday                 10           6                4\n",
       "13  00120c18-a096-4c98-a162-db54fbb21eea 2017-07-23 2017-08-23              0      0  ...            4.0       Sunday                 11           7                6\n",
       "77  00120c18-a096-4c98-a162-db54fbb21eea 2017-08-23 2017-09-23        2017-08      1  ...            4.0    Wednesday                 12           8                2\n",
       "78  0013573e-6038-4ac7-8b9b-daf6678aae15 2017-03-08 2017-04-08        2017-03      1  ...            2.0    Wednesday                 12           3                2\n",
       "14  00148a46-db3f-4762-9152-8bae849301e6 2016-10-11 2016-11-11              0      0  ...            2.0      Tuesday                 12          10                1\n",
       "15  00148a46-db3f-4762-9152-8bae849301e6 2016-11-11 2016-12-11        2016-11      1  ...            2.0       Friday                 13          11                4\n",
       "16  00156a0b-4823-4912-b66d-60c8f36be696 2017-04-15 2017-05-15              0      0  ...            3.0     Saturday                 13           4                5\n",
       "\n",
       "[30 rows x 18 columns]"
      ]
     },
     "execution_count": 270,
     "metadata": {},
     "output_type": "execute_result"
    }
   ],
   "source": [
    "# Reset the ConsecutiveMonths for each new UserID\n",
    "#df['ConsecutiveMonths'] = df.groupby('GUID')['ConsecutiveMonths'].cumsum()\n",
    "#df['ConsecutiveMonths'] = df.groupby('GUID').cumcount() + 1\n",
    "\n",
    "# Drop the Month and MonthDiff columns\n",
    "df = df.drop(['MonthDiff'], axis=1)\n",
    "df.head(30)"
   ]
  },
  {
   "cell_type": "code",
   "execution_count": 269,
   "id": "35591694",
   "metadata": {},
   "outputs": [
    {
     "name": "stdout",
     "output_type": "stream",
     "text": [
      "Columns with missing values: ['MonthDiff']\n"
     ]
    }
   ],
   "source": [
    "# Find the columns with missing values\n",
    "#cols_with_na = df.columns[df.isna().sum() > 0].tolist()\n",
    "#print('Columns with missing values:', cols_with_na)"
   ]
  },
  {
   "cell_type": "code",
   "execution_count": 272,
   "id": "51356513",
   "metadata": {},
   "outputs": [
    {
     "name": "stdout",
     "output_type": "stream",
     "text": [
      "Accuracy: 0.7415536402307298\n",
      "Precision: 0.25141659551346734\n",
      "Recall: 0.1927517257795763\n",
      "F1-score: 0.21820999090511\n"
     ]
    }
   ],
   "source": [
    "# Split the data into features and target variables\n",
    "X = df.drop(['Churn','GUID','StartDate','EndDate','YearMonthChurn','day_of_week'], axis=1)\n",
    "#'GUID','EndDate','YearMonthChurn'\n",
    "y = df['Churn']\n",
    "# Split the data into training and test sets\n",
    "X_train, X_test, y_train, y_test = train_test_split(X, y, test_size=0.34, random_state=42)\n",
    "# Train a random forest classifier\n",
    "clf = RandomForestClassifier(n_estimators=100, random_state=42)\n",
    "clf.fit(X_train, y_train)\n",
    "# Make predictions on the test set\n",
    "y_pred = clf.predict(X_test)\n",
    "# Evaluate the model's performance\n",
    "accuracy = accuracy_score(y_test, y_pred)\n",
    "precision = precision_score(y_test, y_pred)\n",
    "recall = recall_score(y_test, y_pred)\n",
    "f1 = f1_score(y_test, y_pred)\n",
    "\n",
    "print('Accuracy:', accuracy)\n",
    "print('Precision:', precision)\n",
    "print('Recall:', recall)\n",
    "print('F1-score:', f1)"
   ]
  },
  {
   "cell_type": "code",
   "execution_count": 282,
   "id": "216effc7",
   "metadata": {},
   "outputs": [
    {
     "data": {
      "text/html": [
       "<style type=\"text/css\">\n",
       "#T_77c67_row0_col1, #T_77c67_row1_col1, #T_77c67_row2_col1 {\n",
       "  background-color: #f7fbff;\n",
       "  color: #000000;\n",
       "}\n",
       "#T_77c67_row3_col1 {\n",
       "  background-color: #f6faff;\n",
       "  color: #000000;\n",
       "}\n",
       "#T_77c67_row4_col1, #T_77c67_row5_col1, #T_77c67_row6_col1 {\n",
       "  background-color: #f5fafe;\n",
       "  color: #000000;\n",
       "}\n",
       "#T_77c67_row7_col1 {\n",
       "  background-color: #f2f8fd;\n",
       "  color: #000000;\n",
       "}\n",
       "#T_77c67_row8_col1 {\n",
       "  background-color: #eff6fc;\n",
       "  color: #000000;\n",
       "}\n",
       "#T_77c67_row9_col1, #T_77c67_row10_col1 {\n",
       "  background-color: #ebf3fb;\n",
       "  color: #000000;\n",
       "}\n",
       "#T_77c67_row11_col1 {\n",
       "  background-color: #08306b;\n",
       "  color: #f1f1f1;\n",
       "}\n",
       "</style>\n",
       "<table id=\"T_77c67\">\n",
       "  <thead>\n",
       "    <tr>\n",
       "      <th class=\"blank level0\" >&nbsp;</th>\n",
       "      <th id=\"T_77c67_level0_col0\" class=\"col_heading level0 col0\" >Features</th>\n",
       "      <th id=\"T_77c67_level0_col1\" class=\"col_heading level0 col1\" >Feature Importance</th>\n",
       "    </tr>\n",
       "  </thead>\n",
       "  <tbody>\n",
       "    <tr>\n",
       "      <th id=\"T_77c67_level0_row0\" class=\"row_heading level0 row0\" >3</th>\n",
       "      <td id=\"T_77c67_row0_col0\" class=\"data row0 col0\" >Basketball</td>\n",
       "      <td id=\"T_77c67_row0_col1\" class=\"data row0 col1\" >0.008739</td>\n",
       "    </tr>\n",
       "    <tr>\n",
       "      <th id=\"T_77c67_level0_row1\" class=\"row_heading level0 row1\" >1</th>\n",
       "      <td id=\"T_77c67_row1_col0\" class=\"data row1 col0\" >Soccer</td>\n",
       "      <td id=\"T_77c67_row1_col1\" class=\"data row1 col1\" >0.008799</td>\n",
       "    </tr>\n",
       "    <tr>\n",
       "      <th id=\"T_77c67_level0_row2\" class=\"row_heading level0 row2\" >4</th>\n",
       "      <td id=\"T_77c67_row2_col0\" class=\"data row2 col0\" >Baseball</td>\n",
       "      <td id=\"T_77c67_row2_col1\" class=\"data row2 col1\" >0.011183</td>\n",
       "    </tr>\n",
       "    <tr>\n",
       "      <th id=\"T_77c67_level0_row3\" class=\"row_heading level0 row3\" >2</th>\n",
       "      <td id=\"T_77c67_row3_col0\" class=\"data row3 col0\" >Poker</td>\n",
       "      <td id=\"T_77c67_row3_col1\" class=\"data row3 col1\" >0.011654</td>\n",
       "    </tr>\n",
       "    <tr>\n",
       "      <th id=\"T_77c67_level0_row4\" class=\"row_heading level0 row4\" >6</th>\n",
       "      <td id=\"T_77c67_row4_col0\" class=\"data row4 col0\" >SportsnetContent</td>\n",
       "      <td id=\"T_77c67_row4_col1\" class=\"data row4 col1\" >0.014813</td>\n",
       "    </tr>\n",
       "    <tr>\n",
       "      <th id=\"T_77c67_level0_row5\" class=\"row_heading level0 row5\" >5</th>\n",
       "      <td id=\"T_77c67_row5_col0\" class=\"data row5 col0\" >Hockey</td>\n",
       "      <td id=\"T_77c67_row5_col1\" class=\"data row5 col1\" >0.015229</td>\n",
       "    </tr>\n",
       "    <tr>\n",
       "      <th id=\"T_77c67_level0_row6\" class=\"row_heading level0 row6\" >7</th>\n",
       "      <td id=\"T_77c67_row6_col0\" class=\"data row6 col0\" >StartYear</td>\n",
       "      <td id=\"T_77c67_row6_col1\" class=\"data row6 col1\" >0.015707</td>\n",
       "    </tr>\n",
       "    <tr>\n",
       "      <th id=\"T_77c67_level0_row7\" class=\"row_heading level0 row7\" >0</th>\n",
       "      <td id=\"T_77c67_row7_col0\" class=\"data row7 col0\" >TotalStreams</td>\n",
       "      <td id=\"T_77c67_row7_col1\" class=\"data row7 col1\" >0.028485</td>\n",
       "    </tr>\n",
       "    <tr>\n",
       "      <th id=\"T_77c67_level0_row8\" class=\"row_heading level0 row8\" >8</th>\n",
       "      <td id=\"T_77c67_row8_col0\" class=\"data row8 col0\" >week_of_month</td>\n",
       "      <td id=\"T_77c67_row8_col1\" class=\"data row8 col1\" >0.039171</td>\n",
       "    </tr>\n",
       "    <tr>\n",
       "      <th id=\"T_77c67_level0_row9\" class=\"row_heading level0 row9\" >11</th>\n",
       "      <td id=\"T_77c67_row9_col0\" class=\"data row9 col0\" >day_of_week_num</td>\n",
       "      <td id=\"T_77c67_row9_col1\" class=\"data row9 col1\" >0.052968</td>\n",
       "    </tr>\n",
       "    <tr>\n",
       "      <th id=\"T_77c67_level0_row10\" class=\"row_heading level0 row10\" >10</th>\n",
       "      <td id=\"T_77c67_row10_col0\" class=\"data row10 col0\" >StartMonth</td>\n",
       "      <td id=\"T_77c67_row10_col1\" class=\"data row10 col1\" >0.053430</td>\n",
       "    </tr>\n",
       "    <tr>\n",
       "      <th id=\"T_77c67_level0_row11\" class=\"row_heading level0 row11\" >9</th>\n",
       "      <td id=\"T_77c67_row11_col0\" class=\"data row11 col0\" >ConsecutiveMonths</td>\n",
       "      <td id=\"T_77c67_row11_col1\" class=\"data row11 col1\" >0.739822</td>\n",
       "    </tr>\n",
       "  </tbody>\n",
       "</table>\n"
      ],
      "text/plain": [
       "<pandas.io.formats.style.Styler at 0x2110c8a4dc0>"
      ]
     },
     "execution_count": 282,
     "metadata": {},
     "output_type": "execute_result"
    }
   ],
   "source": [
    "d = {'Features': X_train.columns, 'Feature Importance': clf.feature_importances_}\n",
    "df = pd.DataFrame(d)\n",
    "df_sorted = df.sort_values(by='Feature Importance', ascending = True)\n",
    "df_sorted\n",
    "df_sorted.style.background_gradient(cmap='Blues')"
   ]
  },
  {
   "cell_type": "code",
   "execution_count": 283,
   "id": "8e7b17b3",
   "metadata": {},
   "outputs": [
    {
     "data": {
      "application/vnd.plotly.v1+json": {
       "config": {
        "linkText": "Export to plot.ly",
        "plotlyServerURL": "https://plot.ly",
        "showLink": false
       },
       "data": [
        {
         "alignmentgroup": "True",
         "hovertemplate": "x=%{x}<br>y=%{y}<br>color=%{marker.color}<extra></extra>",
         "legendgroup": "",
         "marker": {
          "color": [
           0.008739316659248082,
           0.008799031310809308,
           0.011183382456455521,
           0.011653738081183437,
           0.014813327255200168,
           0.015228682857867376,
           0.01570690945167036,
           0.0284846901331225,
           0.039171213417750074,
           0.05296798168101441,
           0.053430214036090246,
           0.7398215126595886
          ],
          "coloraxis": "coloraxis",
          "line": {
           "color": "black",
           "width": 2
          },
          "pattern": {
           "shape": ""
          }
         },
         "name": "",
         "offsetgroup": "",
         "orientation": "h",
         "showlegend": false,
         "textposition": "auto",
         "texttemplate": "%{x:.4f}",
         "type": "bar",
         "x": [
          0.008739316659248082,
          0.008799031310809308,
          0.011183382456455521,
          0.011653738081183437,
          0.014813327255200168,
          0.015228682857867376,
          0.01570690945167036,
          0.0284846901331225,
          0.039171213417750074,
          0.05296798168101441,
          0.053430214036090246,
          0.7398215126595886
         ],
         "xaxis": "x",
         "y": [
          "Basketball",
          "Soccer",
          "Baseball",
          "Poker",
          "SportsnetContent",
          "Hockey",
          "StartYear",
          "TotalStreams",
          "week_of_month",
          "day_of_week_num",
          "StartMonth",
          "ConsecutiveMonths"
         ],
         "yaxis": "y"
        }
       ],
       "layout": {
        "barmode": "relative",
        "coloraxis": {
         "colorbar": {
          "title": {
           "text": "color"
          }
         },
         "colorscale": [
          [
           0,
           "rgb(247,251,255)"
          ],
          [
           0.125,
           "rgb(222,235,247)"
          ],
          [
           0.25,
           "rgb(198,219,239)"
          ],
          [
           0.375,
           "rgb(158,202,225)"
          ],
          [
           0.5,
           "rgb(107,174,214)"
          ],
          [
           0.625,
           "rgb(66,146,198)"
          ],
          [
           0.75,
           "rgb(33,113,181)"
          ],
          [
           0.875,
           "rgb(8,81,156)"
          ],
          [
           1,
           "rgb(8,48,107)"
          ]
         ]
        },
        "legend": {
         "tracegroupgap": 0
        },
        "template": {
         "data": {
          "bar": [
           {
            "error_x": {
             "color": "#2a3f5f"
            },
            "error_y": {
             "color": "#2a3f5f"
            },
            "marker": {
             "line": {
              "color": "#E5ECF6",
              "width": 0.5
             },
             "pattern": {
              "fillmode": "overlay",
              "size": 10,
              "solidity": 0.2
             }
            },
            "type": "bar"
           }
          ],
          "barpolar": [
           {
            "marker": {
             "line": {
              "color": "#E5ECF6",
              "width": 0.5
             },
             "pattern": {
              "fillmode": "overlay",
              "size": 10,
              "solidity": 0.2
             }
            },
            "type": "barpolar"
           }
          ],
          "carpet": [
           {
            "aaxis": {
             "endlinecolor": "#2a3f5f",
             "gridcolor": "white",
             "linecolor": "white",
             "minorgridcolor": "white",
             "startlinecolor": "#2a3f5f"
            },
            "baxis": {
             "endlinecolor": "#2a3f5f",
             "gridcolor": "white",
             "linecolor": "white",
             "minorgridcolor": "white",
             "startlinecolor": "#2a3f5f"
            },
            "type": "carpet"
           }
          ],
          "choropleth": [
           {
            "colorbar": {
             "outlinewidth": 0,
             "ticks": ""
            },
            "type": "choropleth"
           }
          ],
          "contour": [
           {
            "colorbar": {
             "outlinewidth": 0,
             "ticks": ""
            },
            "colorscale": [
             [
              0,
              "#0d0887"
             ],
             [
              0.1111111111111111,
              "#46039f"
             ],
             [
              0.2222222222222222,
              "#7201a8"
             ],
             [
              0.3333333333333333,
              "#9c179e"
             ],
             [
              0.4444444444444444,
              "#bd3786"
             ],
             [
              0.5555555555555556,
              "#d8576b"
             ],
             [
              0.6666666666666666,
              "#ed7953"
             ],
             [
              0.7777777777777778,
              "#fb9f3a"
             ],
             [
              0.8888888888888888,
              "#fdca26"
             ],
             [
              1,
              "#f0f921"
             ]
            ],
            "type": "contour"
           }
          ],
          "contourcarpet": [
           {
            "colorbar": {
             "outlinewidth": 0,
             "ticks": ""
            },
            "type": "contourcarpet"
           }
          ],
          "heatmap": [
           {
            "colorbar": {
             "outlinewidth": 0,
             "ticks": ""
            },
            "colorscale": [
             [
              0,
              "#0d0887"
             ],
             [
              0.1111111111111111,
              "#46039f"
             ],
             [
              0.2222222222222222,
              "#7201a8"
             ],
             [
              0.3333333333333333,
              "#9c179e"
             ],
             [
              0.4444444444444444,
              "#bd3786"
             ],
             [
              0.5555555555555556,
              "#d8576b"
             ],
             [
              0.6666666666666666,
              "#ed7953"
             ],
             [
              0.7777777777777778,
              "#fb9f3a"
             ],
             [
              0.8888888888888888,
              "#fdca26"
             ],
             [
              1,
              "#f0f921"
             ]
            ],
            "type": "heatmap"
           }
          ],
          "heatmapgl": [
           {
            "colorbar": {
             "outlinewidth": 0,
             "ticks": ""
            },
            "colorscale": [
             [
              0,
              "#0d0887"
             ],
             [
              0.1111111111111111,
              "#46039f"
             ],
             [
              0.2222222222222222,
              "#7201a8"
             ],
             [
              0.3333333333333333,
              "#9c179e"
             ],
             [
              0.4444444444444444,
              "#bd3786"
             ],
             [
              0.5555555555555556,
              "#d8576b"
             ],
             [
              0.6666666666666666,
              "#ed7953"
             ],
             [
              0.7777777777777778,
              "#fb9f3a"
             ],
             [
              0.8888888888888888,
              "#fdca26"
             ],
             [
              1,
              "#f0f921"
             ]
            ],
            "type": "heatmapgl"
           }
          ],
          "histogram": [
           {
            "marker": {
             "pattern": {
              "fillmode": "overlay",
              "size": 10,
              "solidity": 0.2
             }
            },
            "type": "histogram"
           }
          ],
          "histogram2d": [
           {
            "colorbar": {
             "outlinewidth": 0,
             "ticks": ""
            },
            "colorscale": [
             [
              0,
              "#0d0887"
             ],
             [
              0.1111111111111111,
              "#46039f"
             ],
             [
              0.2222222222222222,
              "#7201a8"
             ],
             [
              0.3333333333333333,
              "#9c179e"
             ],
             [
              0.4444444444444444,
              "#bd3786"
             ],
             [
              0.5555555555555556,
              "#d8576b"
             ],
             [
              0.6666666666666666,
              "#ed7953"
             ],
             [
              0.7777777777777778,
              "#fb9f3a"
             ],
             [
              0.8888888888888888,
              "#fdca26"
             ],
             [
              1,
              "#f0f921"
             ]
            ],
            "type": "histogram2d"
           }
          ],
          "histogram2dcontour": [
           {
            "colorbar": {
             "outlinewidth": 0,
             "ticks": ""
            },
            "colorscale": [
             [
              0,
              "#0d0887"
             ],
             [
              0.1111111111111111,
              "#46039f"
             ],
             [
              0.2222222222222222,
              "#7201a8"
             ],
             [
              0.3333333333333333,
              "#9c179e"
             ],
             [
              0.4444444444444444,
              "#bd3786"
             ],
             [
              0.5555555555555556,
              "#d8576b"
             ],
             [
              0.6666666666666666,
              "#ed7953"
             ],
             [
              0.7777777777777778,
              "#fb9f3a"
             ],
             [
              0.8888888888888888,
              "#fdca26"
             ],
             [
              1,
              "#f0f921"
             ]
            ],
            "type": "histogram2dcontour"
           }
          ],
          "mesh3d": [
           {
            "colorbar": {
             "outlinewidth": 0,
             "ticks": ""
            },
            "type": "mesh3d"
           }
          ],
          "parcoords": [
           {
            "line": {
             "colorbar": {
              "outlinewidth": 0,
              "ticks": ""
             }
            },
            "type": "parcoords"
           }
          ],
          "pie": [
           {
            "automargin": true,
            "type": "pie"
           }
          ],
          "scatter": [
           {
            "fillpattern": {
             "fillmode": "overlay",
             "size": 10,
             "solidity": 0.2
            },
            "type": "scatter"
           }
          ],
          "scatter3d": [
           {
            "line": {
             "colorbar": {
              "outlinewidth": 0,
              "ticks": ""
             }
            },
            "marker": {
             "colorbar": {
              "outlinewidth": 0,
              "ticks": ""
             }
            },
            "type": "scatter3d"
           }
          ],
          "scattercarpet": [
           {
            "marker": {
             "colorbar": {
              "outlinewidth": 0,
              "ticks": ""
             }
            },
            "type": "scattercarpet"
           }
          ],
          "scattergeo": [
           {
            "marker": {
             "colorbar": {
              "outlinewidth": 0,
              "ticks": ""
             }
            },
            "type": "scattergeo"
           }
          ],
          "scattergl": [
           {
            "marker": {
             "colorbar": {
              "outlinewidth": 0,
              "ticks": ""
             }
            },
            "type": "scattergl"
           }
          ],
          "scattermapbox": [
           {
            "marker": {
             "colorbar": {
              "outlinewidth": 0,
              "ticks": ""
             }
            },
            "type": "scattermapbox"
           }
          ],
          "scatterpolar": [
           {
            "marker": {
             "colorbar": {
              "outlinewidth": 0,
              "ticks": ""
             }
            },
            "type": "scatterpolar"
           }
          ],
          "scatterpolargl": [
           {
            "marker": {
             "colorbar": {
              "outlinewidth": 0,
              "ticks": ""
             }
            },
            "type": "scatterpolargl"
           }
          ],
          "scatterternary": [
           {
            "marker": {
             "colorbar": {
              "outlinewidth": 0,
              "ticks": ""
             }
            },
            "type": "scatterternary"
           }
          ],
          "surface": [
           {
            "colorbar": {
             "outlinewidth": 0,
             "ticks": ""
            },
            "colorscale": [
             [
              0,
              "#0d0887"
             ],
             [
              0.1111111111111111,
              "#46039f"
             ],
             [
              0.2222222222222222,
              "#7201a8"
             ],
             [
              0.3333333333333333,
              "#9c179e"
             ],
             [
              0.4444444444444444,
              "#bd3786"
             ],
             [
              0.5555555555555556,
              "#d8576b"
             ],
             [
              0.6666666666666666,
              "#ed7953"
             ],
             [
              0.7777777777777778,
              "#fb9f3a"
             ],
             [
              0.8888888888888888,
              "#fdca26"
             ],
             [
              1,
              "#f0f921"
             ]
            ],
            "type": "surface"
           }
          ],
          "table": [
           {
            "cells": {
             "fill": {
              "color": "#EBF0F8"
             },
             "line": {
              "color": "white"
             }
            },
            "header": {
             "fill": {
              "color": "#C8D4E3"
             },
             "line": {
              "color": "white"
             }
            },
            "type": "table"
           }
          ]
         },
         "layout": {
          "annotationdefaults": {
           "arrowcolor": "#2a3f5f",
           "arrowhead": 0,
           "arrowwidth": 1
          },
          "autotypenumbers": "strict",
          "coloraxis": {
           "colorbar": {
            "outlinewidth": 0,
            "ticks": ""
           }
          },
          "colorscale": {
           "diverging": [
            [
             0,
             "#8e0152"
            ],
            [
             0.1,
             "#c51b7d"
            ],
            [
             0.2,
             "#de77ae"
            ],
            [
             0.3,
             "#f1b6da"
            ],
            [
             0.4,
             "#fde0ef"
            ],
            [
             0.5,
             "#f7f7f7"
            ],
            [
             0.6,
             "#e6f5d0"
            ],
            [
             0.7,
             "#b8e186"
            ],
            [
             0.8,
             "#7fbc41"
            ],
            [
             0.9,
             "#4d9221"
            ],
            [
             1,
             "#276419"
            ]
           ],
           "sequential": [
            [
             0,
             "#0d0887"
            ],
            [
             0.1111111111111111,
             "#46039f"
            ],
            [
             0.2222222222222222,
             "#7201a8"
            ],
            [
             0.3333333333333333,
             "#9c179e"
            ],
            [
             0.4444444444444444,
             "#bd3786"
            ],
            [
             0.5555555555555556,
             "#d8576b"
            ],
            [
             0.6666666666666666,
             "#ed7953"
            ],
            [
             0.7777777777777778,
             "#fb9f3a"
            ],
            [
             0.8888888888888888,
             "#fdca26"
            ],
            [
             1,
             "#f0f921"
            ]
           ],
           "sequentialminus": [
            [
             0,
             "#0d0887"
            ],
            [
             0.1111111111111111,
             "#46039f"
            ],
            [
             0.2222222222222222,
             "#7201a8"
            ],
            [
             0.3333333333333333,
             "#9c179e"
            ],
            [
             0.4444444444444444,
             "#bd3786"
            ],
            [
             0.5555555555555556,
             "#d8576b"
            ],
            [
             0.6666666666666666,
             "#ed7953"
            ],
            [
             0.7777777777777778,
             "#fb9f3a"
            ],
            [
             0.8888888888888888,
             "#fdca26"
            ],
            [
             1,
             "#f0f921"
            ]
           ]
          },
          "colorway": [
           "#636efa",
           "#EF553B",
           "#00cc96",
           "#ab63fa",
           "#FFA15A",
           "#19d3f3",
           "#FF6692",
           "#B6E880",
           "#FF97FF",
           "#FECB52"
          ],
          "font": {
           "color": "#2a3f5f"
          },
          "geo": {
           "bgcolor": "white",
           "lakecolor": "white",
           "landcolor": "#E5ECF6",
           "showlakes": true,
           "showland": true,
           "subunitcolor": "white"
          },
          "hoverlabel": {
           "align": "left"
          },
          "hovermode": "closest",
          "mapbox": {
           "style": "light"
          },
          "paper_bgcolor": "white",
          "plot_bgcolor": "#E5ECF6",
          "polar": {
           "angularaxis": {
            "gridcolor": "white",
            "linecolor": "white",
            "ticks": ""
           },
           "bgcolor": "#E5ECF6",
           "radialaxis": {
            "gridcolor": "white",
            "linecolor": "white",
            "ticks": ""
           }
          },
          "scene": {
           "xaxis": {
            "backgroundcolor": "#E5ECF6",
            "gridcolor": "white",
            "gridwidth": 2,
            "linecolor": "white",
            "showbackground": true,
            "ticks": "",
            "zerolinecolor": "white"
           },
           "yaxis": {
            "backgroundcolor": "#E5ECF6",
            "gridcolor": "white",
            "gridwidth": 2,
            "linecolor": "white",
            "showbackground": true,
            "ticks": "",
            "zerolinecolor": "white"
           },
           "zaxis": {
            "backgroundcolor": "#E5ECF6",
            "gridcolor": "white",
            "gridwidth": 2,
            "linecolor": "white",
            "showbackground": true,
            "ticks": "",
            "zerolinecolor": "white"
           }
          },
          "shapedefaults": {
           "line": {
            "color": "#2a3f5f"
           }
          },
          "ternary": {
           "aaxis": {
            "gridcolor": "white",
            "linecolor": "white",
            "ticks": ""
           },
           "baxis": {
            "gridcolor": "white",
            "linecolor": "white",
            "ticks": ""
           },
           "bgcolor": "#E5ECF6",
           "caxis": {
            "gridcolor": "white",
            "linecolor": "white",
            "ticks": ""
           }
          },
          "title": {
           "x": 0.05
          },
          "xaxis": {
           "automargin": true,
           "gridcolor": "white",
           "linecolor": "white",
           "ticks": "",
           "title": {
            "standoff": 15
           },
           "zerolinecolor": "white",
           "zerolinewidth": 2
          },
          "yaxis": {
           "automargin": true,
           "gridcolor": "white",
           "linecolor": "white",
           "ticks": "",
           "title": {
            "standoff": 15
           },
           "zerolinecolor": "white",
           "zerolinewidth": 2
          }
         }
        },
        "title": {
         "text": "<b>Feature Importance Based on Random Forest<b>"
        },
        "xaxis": {
         "anchor": "y",
         "domain": [
          0,
          1
         ],
         "title": {
          "text": "Feature Importance"
         }
        },
        "yaxis": {
         "anchor": "x",
         "domain": [
          0,
          1
         ],
         "title": {
          "text": "Features"
         }
        }
       }
      },
      "text/html": [
       "<div>                            <div id=\"f33b8c37-e071-49c7-b2fb-2702a331896e\" class=\"plotly-graph-div\" style=\"height:525px; width:100%;\"></div>            <script type=\"text/javascript\">                require([\"plotly\"], function(Plotly) {                    window.PLOTLYENV=window.PLOTLYENV || {};                                    if (document.getElementById(\"f33b8c37-e071-49c7-b2fb-2702a331896e\")) {                    Plotly.newPlot(                        \"f33b8c37-e071-49c7-b2fb-2702a331896e\",                        [{\"alignmentgroup\":\"True\",\"hovertemplate\":\"x=%{x}<br>y=%{y}<br>color=%{marker.color}<extra></extra>\",\"legendgroup\":\"\",\"marker\":{\"color\":[0.008739316659248082,0.008799031310809308,0.011183382456455521,0.011653738081183437,0.014813327255200168,0.015228682857867376,0.01570690945167036,0.0284846901331225,0.039171213417750074,0.05296798168101441,0.053430214036090246,0.7398215126595886],\"coloraxis\":\"coloraxis\",\"line\":{\"color\":\"black\",\"width\":2},\"pattern\":{\"shape\":\"\"}},\"name\":\"\",\"offsetgroup\":\"\",\"orientation\":\"h\",\"showlegend\":false,\"textposition\":\"auto\",\"texttemplate\":\"%{x:.4f}\",\"x\":[0.008739316659248082,0.008799031310809308,0.011183382456455521,0.011653738081183437,0.014813327255200168,0.015228682857867376,0.01570690945167036,0.0284846901331225,0.039171213417750074,0.05296798168101441,0.053430214036090246,0.7398215126595886],\"xaxis\":\"x\",\"y\":[\"Basketball\",\"Soccer\",\"Baseball\",\"Poker\",\"SportsnetContent\",\"Hockey\",\"StartYear\",\"TotalStreams\",\"week_of_month\",\"day_of_week_num\",\"StartMonth\",\"ConsecutiveMonths\"],\"yaxis\":\"y\",\"type\":\"bar\"}],                        {\"barmode\":\"relative\",\"coloraxis\":{\"colorbar\":{\"title\":{\"text\":\"color\"}},\"colorscale\":[[0.0,\"rgb(247,251,255)\"],[0.125,\"rgb(222,235,247)\"],[0.25,\"rgb(198,219,239)\"],[0.375,\"rgb(158,202,225)\"],[0.5,\"rgb(107,174,214)\"],[0.625,\"rgb(66,146,198)\"],[0.75,\"rgb(33,113,181)\"],[0.875,\"rgb(8,81,156)\"],[1.0,\"rgb(8,48,107)\"]]},\"legend\":{\"tracegroupgap\":0},\"template\":{\"data\":{\"barpolar\":[{\"marker\":{\"line\":{\"color\":\"#E5ECF6\",\"width\":0.5},\"pattern\":{\"fillmode\":\"overlay\",\"size\":10,\"solidity\":0.2}},\"type\":\"barpolar\"}],\"bar\":[{\"error_x\":{\"color\":\"#2a3f5f\"},\"error_y\":{\"color\":\"#2a3f5f\"},\"marker\":{\"line\":{\"color\":\"#E5ECF6\",\"width\":0.5},\"pattern\":{\"fillmode\":\"overlay\",\"size\":10,\"solidity\":0.2}},\"type\":\"bar\"}],\"carpet\":[{\"aaxis\":{\"endlinecolor\":\"#2a3f5f\",\"gridcolor\":\"white\",\"linecolor\":\"white\",\"minorgridcolor\":\"white\",\"startlinecolor\":\"#2a3f5f\"},\"baxis\":{\"endlinecolor\":\"#2a3f5f\",\"gridcolor\":\"white\",\"linecolor\":\"white\",\"minorgridcolor\":\"white\",\"startlinecolor\":\"#2a3f5f\"},\"type\":\"carpet\"}],\"choropleth\":[{\"colorbar\":{\"outlinewidth\":0,\"ticks\":\"\"},\"type\":\"choropleth\"}],\"contourcarpet\":[{\"colorbar\":{\"outlinewidth\":0,\"ticks\":\"\"},\"type\":\"contourcarpet\"}],\"contour\":[{\"colorbar\":{\"outlinewidth\":0,\"ticks\":\"\"},\"colorscale\":[[0.0,\"#0d0887\"],[0.1111111111111111,\"#46039f\"],[0.2222222222222222,\"#7201a8\"],[0.3333333333333333,\"#9c179e\"],[0.4444444444444444,\"#bd3786\"],[0.5555555555555556,\"#d8576b\"],[0.6666666666666666,\"#ed7953\"],[0.7777777777777778,\"#fb9f3a\"],[0.8888888888888888,\"#fdca26\"],[1.0,\"#f0f921\"]],\"type\":\"contour\"}],\"heatmapgl\":[{\"colorbar\":{\"outlinewidth\":0,\"ticks\":\"\"},\"colorscale\":[[0.0,\"#0d0887\"],[0.1111111111111111,\"#46039f\"],[0.2222222222222222,\"#7201a8\"],[0.3333333333333333,\"#9c179e\"],[0.4444444444444444,\"#bd3786\"],[0.5555555555555556,\"#d8576b\"],[0.6666666666666666,\"#ed7953\"],[0.7777777777777778,\"#fb9f3a\"],[0.8888888888888888,\"#fdca26\"],[1.0,\"#f0f921\"]],\"type\":\"heatmapgl\"}],\"heatmap\":[{\"colorbar\":{\"outlinewidth\":0,\"ticks\":\"\"},\"colorscale\":[[0.0,\"#0d0887\"],[0.1111111111111111,\"#46039f\"],[0.2222222222222222,\"#7201a8\"],[0.3333333333333333,\"#9c179e\"],[0.4444444444444444,\"#bd3786\"],[0.5555555555555556,\"#d8576b\"],[0.6666666666666666,\"#ed7953\"],[0.7777777777777778,\"#fb9f3a\"],[0.8888888888888888,\"#fdca26\"],[1.0,\"#f0f921\"]],\"type\":\"heatmap\"}],\"histogram2dcontour\":[{\"colorbar\":{\"outlinewidth\":0,\"ticks\":\"\"},\"colorscale\":[[0.0,\"#0d0887\"],[0.1111111111111111,\"#46039f\"],[0.2222222222222222,\"#7201a8\"],[0.3333333333333333,\"#9c179e\"],[0.4444444444444444,\"#bd3786\"],[0.5555555555555556,\"#d8576b\"],[0.6666666666666666,\"#ed7953\"],[0.7777777777777778,\"#fb9f3a\"],[0.8888888888888888,\"#fdca26\"],[1.0,\"#f0f921\"]],\"type\":\"histogram2dcontour\"}],\"histogram2d\":[{\"colorbar\":{\"outlinewidth\":0,\"ticks\":\"\"},\"colorscale\":[[0.0,\"#0d0887\"],[0.1111111111111111,\"#46039f\"],[0.2222222222222222,\"#7201a8\"],[0.3333333333333333,\"#9c179e\"],[0.4444444444444444,\"#bd3786\"],[0.5555555555555556,\"#d8576b\"],[0.6666666666666666,\"#ed7953\"],[0.7777777777777778,\"#fb9f3a\"],[0.8888888888888888,\"#fdca26\"],[1.0,\"#f0f921\"]],\"type\":\"histogram2d\"}],\"histogram\":[{\"marker\":{\"pattern\":{\"fillmode\":\"overlay\",\"size\":10,\"solidity\":0.2}},\"type\":\"histogram\"}],\"mesh3d\":[{\"colorbar\":{\"outlinewidth\":0,\"ticks\":\"\"},\"type\":\"mesh3d\"}],\"parcoords\":[{\"line\":{\"colorbar\":{\"outlinewidth\":0,\"ticks\":\"\"}},\"type\":\"parcoords\"}],\"pie\":[{\"automargin\":true,\"type\":\"pie\"}],\"scatter3d\":[{\"line\":{\"colorbar\":{\"outlinewidth\":0,\"ticks\":\"\"}},\"marker\":{\"colorbar\":{\"outlinewidth\":0,\"ticks\":\"\"}},\"type\":\"scatter3d\"}],\"scattercarpet\":[{\"marker\":{\"colorbar\":{\"outlinewidth\":0,\"ticks\":\"\"}},\"type\":\"scattercarpet\"}],\"scattergeo\":[{\"marker\":{\"colorbar\":{\"outlinewidth\":0,\"ticks\":\"\"}},\"type\":\"scattergeo\"}],\"scattergl\":[{\"marker\":{\"colorbar\":{\"outlinewidth\":0,\"ticks\":\"\"}},\"type\":\"scattergl\"}],\"scattermapbox\":[{\"marker\":{\"colorbar\":{\"outlinewidth\":0,\"ticks\":\"\"}},\"type\":\"scattermapbox\"}],\"scatterpolargl\":[{\"marker\":{\"colorbar\":{\"outlinewidth\":0,\"ticks\":\"\"}},\"type\":\"scatterpolargl\"}],\"scatterpolar\":[{\"marker\":{\"colorbar\":{\"outlinewidth\":0,\"ticks\":\"\"}},\"type\":\"scatterpolar\"}],\"scatter\":[{\"fillpattern\":{\"fillmode\":\"overlay\",\"size\":10,\"solidity\":0.2},\"type\":\"scatter\"}],\"scatterternary\":[{\"marker\":{\"colorbar\":{\"outlinewidth\":0,\"ticks\":\"\"}},\"type\":\"scatterternary\"}],\"surface\":[{\"colorbar\":{\"outlinewidth\":0,\"ticks\":\"\"},\"colorscale\":[[0.0,\"#0d0887\"],[0.1111111111111111,\"#46039f\"],[0.2222222222222222,\"#7201a8\"],[0.3333333333333333,\"#9c179e\"],[0.4444444444444444,\"#bd3786\"],[0.5555555555555556,\"#d8576b\"],[0.6666666666666666,\"#ed7953\"],[0.7777777777777778,\"#fb9f3a\"],[0.8888888888888888,\"#fdca26\"],[1.0,\"#f0f921\"]],\"type\":\"surface\"}],\"table\":[{\"cells\":{\"fill\":{\"color\":\"#EBF0F8\"},\"line\":{\"color\":\"white\"}},\"header\":{\"fill\":{\"color\":\"#C8D4E3\"},\"line\":{\"color\":\"white\"}},\"type\":\"table\"}]},\"layout\":{\"annotationdefaults\":{\"arrowcolor\":\"#2a3f5f\",\"arrowhead\":0,\"arrowwidth\":1},\"autotypenumbers\":\"strict\",\"coloraxis\":{\"colorbar\":{\"outlinewidth\":0,\"ticks\":\"\"}},\"colorscale\":{\"diverging\":[[0,\"#8e0152\"],[0.1,\"#c51b7d\"],[0.2,\"#de77ae\"],[0.3,\"#f1b6da\"],[0.4,\"#fde0ef\"],[0.5,\"#f7f7f7\"],[0.6,\"#e6f5d0\"],[0.7,\"#b8e186\"],[0.8,\"#7fbc41\"],[0.9,\"#4d9221\"],[1,\"#276419\"]],\"sequential\":[[0.0,\"#0d0887\"],[0.1111111111111111,\"#46039f\"],[0.2222222222222222,\"#7201a8\"],[0.3333333333333333,\"#9c179e\"],[0.4444444444444444,\"#bd3786\"],[0.5555555555555556,\"#d8576b\"],[0.6666666666666666,\"#ed7953\"],[0.7777777777777778,\"#fb9f3a\"],[0.8888888888888888,\"#fdca26\"],[1.0,\"#f0f921\"]],\"sequentialminus\":[[0.0,\"#0d0887\"],[0.1111111111111111,\"#46039f\"],[0.2222222222222222,\"#7201a8\"],[0.3333333333333333,\"#9c179e\"],[0.4444444444444444,\"#bd3786\"],[0.5555555555555556,\"#d8576b\"],[0.6666666666666666,\"#ed7953\"],[0.7777777777777778,\"#fb9f3a\"],[0.8888888888888888,\"#fdca26\"],[1.0,\"#f0f921\"]]},\"colorway\":[\"#636efa\",\"#EF553B\",\"#00cc96\",\"#ab63fa\",\"#FFA15A\",\"#19d3f3\",\"#FF6692\",\"#B6E880\",\"#FF97FF\",\"#FECB52\"],\"font\":{\"color\":\"#2a3f5f\"},\"geo\":{\"bgcolor\":\"white\",\"lakecolor\":\"white\",\"landcolor\":\"#E5ECF6\",\"showlakes\":true,\"showland\":true,\"subunitcolor\":\"white\"},\"hoverlabel\":{\"align\":\"left\"},\"hovermode\":\"closest\",\"mapbox\":{\"style\":\"light\"},\"paper_bgcolor\":\"white\",\"plot_bgcolor\":\"#E5ECF6\",\"polar\":{\"angularaxis\":{\"gridcolor\":\"white\",\"linecolor\":\"white\",\"ticks\":\"\"},\"bgcolor\":\"#E5ECF6\",\"radialaxis\":{\"gridcolor\":\"white\",\"linecolor\":\"white\",\"ticks\":\"\"}},\"scene\":{\"xaxis\":{\"backgroundcolor\":\"#E5ECF6\",\"gridcolor\":\"white\",\"gridwidth\":2,\"linecolor\":\"white\",\"showbackground\":true,\"ticks\":\"\",\"zerolinecolor\":\"white\"},\"yaxis\":{\"backgroundcolor\":\"#E5ECF6\",\"gridcolor\":\"white\",\"gridwidth\":2,\"linecolor\":\"white\",\"showbackground\":true,\"ticks\":\"\",\"zerolinecolor\":\"white\"},\"zaxis\":{\"backgroundcolor\":\"#E5ECF6\",\"gridcolor\":\"white\",\"gridwidth\":2,\"linecolor\":\"white\",\"showbackground\":true,\"ticks\":\"\",\"zerolinecolor\":\"white\"}},\"shapedefaults\":{\"line\":{\"color\":\"#2a3f5f\"}},\"ternary\":{\"aaxis\":{\"gridcolor\":\"white\",\"linecolor\":\"white\",\"ticks\":\"\"},\"baxis\":{\"gridcolor\":\"white\",\"linecolor\":\"white\",\"ticks\":\"\"},\"bgcolor\":\"#E5ECF6\",\"caxis\":{\"gridcolor\":\"white\",\"linecolor\":\"white\",\"ticks\":\"\"}},\"title\":{\"x\":0.05},\"xaxis\":{\"automargin\":true,\"gridcolor\":\"white\",\"linecolor\":\"white\",\"ticks\":\"\",\"title\":{\"standoff\":15},\"zerolinecolor\":\"white\",\"zerolinewidth\":2},\"yaxis\":{\"automargin\":true,\"gridcolor\":\"white\",\"linecolor\":\"white\",\"ticks\":\"\",\"title\":{\"standoff\":15},\"zerolinecolor\":\"white\",\"zerolinewidth\":2}}},\"title\":{\"text\":\"<b>Feature Importance Based on Random Forest<b>\"},\"xaxis\":{\"anchor\":\"y\",\"domain\":[0.0,1.0],\"title\":{\"text\":\"Feature Importance\"}},\"yaxis\":{\"anchor\":\"x\",\"domain\":[0.0,1.0],\"title\":{\"text\":\"Features\"}}},                        {\"responsive\": true}                    ).then(function(){\n",
       "                            \n",
       "var gd = document.getElementById('f33b8c37-e071-49c7-b2fb-2702a331896e');\n",
       "var x = new MutationObserver(function (mutations, observer) {{\n",
       "        var display = window.getComputedStyle(gd).display;\n",
       "        if (!display || display === 'none') {{\n",
       "            console.log([gd, 'removed!']);\n",
       "            Plotly.purge(gd);\n",
       "            observer.disconnect();\n",
       "        }}\n",
       "}});\n",
       "\n",
       "// Listen for the removal of the full notebook cells\n",
       "var notebookContainer = gd.closest('#notebook-container');\n",
       "if (notebookContainer) {{\n",
       "    x.observe(notebookContainer, {childList: true});\n",
       "}}\n",
       "\n",
       "// Listen for the clearing of the current output cell\n",
       "var outputEl = gd.closest('.output');\n",
       "if (outputEl) {{\n",
       "    x.observe(outputEl, {childList: true});\n",
       "}}\n",
       "\n",
       "                        })                };                });            </script>        </div>"
      ]
     },
     "metadata": {},
     "output_type": "display_data"
    }
   ],
   "source": [
    "fig = px.bar(x=df_sorted['Feature Importance'], y=df_sorted['Features'], color_continuous_scale=px.colors.sequential.Blues,\n",
    "             title='<b>Feature Importance Based on Random Forest<b>', text_auto='.4f', color=df_sorted['Feature Importance'])\n",
    "\n",
    "fig.update_traces(marker=dict(line=dict(color='black', width=2)))\n",
    "fig.update_layout({'yaxis': {'title':'Features'}, 'xaxis': {'title':'Feature Importance'}})\n",
    "\n",
    "iplot(fig)"
   ]
  }
 ],
 "metadata": {
  "kernelspec": {
   "display_name": "Python 3 (ipykernel)",
   "language": "python",
   "name": "python3"
  },
  "language_info": {
   "codemirror_mode": {
    "name": "ipython",
    "version": 3
   },
   "file_extension": ".py",
   "mimetype": "text/x-python",
   "name": "python",
   "nbconvert_exporter": "python",
   "pygments_lexer": "ipython3",
   "version": "3.9.13"
  }
 },
 "nbformat": 4,
 "nbformat_minor": 5
}
